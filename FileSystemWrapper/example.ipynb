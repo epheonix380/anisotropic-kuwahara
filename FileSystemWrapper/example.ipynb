{
 "cells": [
  {
   "cell_type": "code",
   "execution_count": 1,
   "metadata": {},
   "outputs": [],
   "source": [
    "from FileSystem import FileSystemWrapper"
   ]
  },
  {
   "cell_type": "code",
   "execution_count": null,
   "metadata": {},
   "outputs": [
    {
     "name": "stdout",
     "output_type": "stream",
     "text": [
      "\n",
      "Directory Structure with Sizes:\n",
      "└── example_dir/ (616.84 KB)\n",
      "    └── file_1.txt (49.64 KB)\n",
      "    └── dir_1/ (564.38 KB)\n",
      "        └── file_1_1.txt (18.30 KB)\n",
      "        └── long_file.txt (546.08 KB)\n",
      "    └── dir_2/ (2.82 KB)\n",
      "        └── file_1_2.txt (2.82 KB)\n",
      "\n",
      "Finding 'file_1.txt':\n",
      "File path is example_dir\\file_1.txt\n",
      "\n",
      "Finding 'dir_1':\n",
      "Directory path is example_dir\\dir_1\n",
      "==================================================\n",
      "Directory: dir_1/ (564.38 KB)\n",
      "  Path: example_dir\\dir_1\n",
      "  Contains: 2 file(s), 0 subdirectory(ies)\n",
      "==================================================\n",
      "\n",
      "Printing 'example_dir/subdir':\n",
      "Directory not found: example_dir/subdir\n"
     ]
    }
   ],
   "source": [
    "fs = FileSystemWrapper()\n",
    "\n",
    "root_path = \"example_dir\"\n",
    "try:\n",
    "    tree = fs.build_tree(root_path)\n",
    "\n",
    "    # Print the tree structure\n",
    "    print(\"\\nDirectory Structure with Sizes:\")\n",
    "    fs.print_tree()\n",
    "\n",
    "    # Find a file or directory\n",
    "    print(\"\\nFinding 'file_1.txt':\")\n",
    "    file = fs.find(\"file_1.txt\")\n",
    "    print(f\"File path is {file.path}\")\n",
    "    \n",
    "    print(\"\\nFinding 'dir_1':\")\n",
    "    dir = fs.find(\"dir_1\")\n",
    "    print(f\"Directory path is {dir.path}\")\n",
    "    print(dir)\n",
    "\n",
    "    # Error handling example\n",
    "    print(\"\\nPrinting 'example_dir/subdir':\")\n",
    "    fs.print_directory(\"example_dir/subdir\")\n",
    "    \n",
    "except ValueError as e:\n",
    "    print(e)\n"
   ]
  }
 ],
 "metadata": {
  "kernelspec": {
   "display_name": "Python 3",
   "language": "python",
   "name": "python3"
  },
  "language_info": {
   "codemirror_mode": {
    "name": "ipython",
    "version": 3
   },
   "file_extension": ".py",
   "mimetype": "text/x-python",
   "name": "python",
   "nbconvert_exporter": "python",
   "pygments_lexer": "ipython3",
   "version": "3.11.1"
  }
 },
 "nbformat": 4,
 "nbformat_minor": 2
}
